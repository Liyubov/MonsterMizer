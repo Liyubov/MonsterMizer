{
 "cells": [
  {
   "cell_type": "markdown",
   "metadata": {},
   "source": [
    "Here we start with analysis of health data using several different measures described in \n",
    "https://jakobrunge.github.io/tigramite/#tigramite.pcmci.PCMCI and these https://towardsdatascience.com/inferring-causality-in-time-series-data-b8b75fe52c46#586a \n"
   ]
  },
  {
   "cell_type": "code",
   "execution_count": 2,
   "metadata": {},
   "outputs": [],
   "source": [
    "#loading data in format of arrays var(t) - variable in time \n",
    "\n",
    "######################\n",
    "# data is array with\n",
    "# np.shape(data) = (T, n)\n",
    "# where T is time stamps \n",
    "# n is number of variables\n",
    "######################"
   ]
  },
  {
   "cell_type": "code",
   "execution_count": null,
   "metadata": {},
   "outputs": [],
   "source": [
    "# load data from variable1 and variable2 ...\n",
    "data12 = np.column_stack((var1, var2))\n",
    "\n",
    "data = np.column_stack((data12, var3))\n",
    "print('shape of data with symptoms', data.shape)\n",
    "print('loaded data with 3 variables')\n"
   ]
  },
  {
   "cell_type": "markdown",
   "metadata": {},
   "source": [
    "# Method application\n",
    "\n",
    "    Plotting of data\n",
    "    Nonlinear conditional independence tests\n",
    "    Symbolic time series\n"
   ]
  },
  {
   "cell_type": "code",
   "execution_count": null,
   "metadata": {},
   "outputs": [],
   "source": [
    "# Imports\n",
    "import numpy\n",
    "import matplotlib\n",
    "from matplotlib import pyplot as plt\n",
    "%matplotlib inline     \n",
    "## use `%matplotlib notebook` for interactive figures\n",
    "# plt.style.use('ggplot')\n",
    "import sklearn\n",
    "\n",
    "import tigramite\n",
    "from tigramite import data_processing as pp\n",
    "from tigramite import plotting as tp\n",
    "from tigramite.pcmci import PCMCI\n",
    "from tigramite.independence_tests import ParCorr, GPDC, CMIknn, CMIsymb\n",
    "from tigramite.models import LinearMediation, Prediction\n"
   ]
  },
  {
   "cell_type": "code",
   "execution_count": null,
   "metadata": {},
   "outputs": [],
   "source": [
    "\n",
    "#data, true_parents_neighbors = pp.var_process(links_coeffs, T=T)\n",
    "T, N = data.shape\n",
    "\n",
    "# Initialize dataframe object from data\n",
    "dataframe = pp.DataFrame(data)\n",
    "dataframe_norm = pp.DataFrame(data_normal)\n",
    "\n",
    "# Specify time axis and variable names\n",
    "datatime = numpy.arange(len(data))\n",
    "var_names = [r'$X^0$', r'$X^1$', r'$X^2$', r'$X^3$']"
   ]
  },
  {
   "cell_type": "markdown",
   "metadata": {},
   "source": [
    "# PCMCI method applied to data\n",
    "\n",
    "PCMCI estimates causal links by a two-step procedure:\n",
    "\n",
    "   1. Condition-selection: For each variable j, estimate a superset of parents $\\tilde{\\mathcal{P}}(X^j_t)$ with the iterative PC1 algorithm , implemented as run_pc_stable.\n",
    "\n",
    "   2. Momentary conditional independence (MCI)   $  X^i_{t-\\tau} ~\\perp~ X^j_{t} ~|~ \\tilde{\\mathcal{P}}(X^j_t), \\tilde{\\mathcal{P}}(X^i_{t-{\\tau}})$\n",
    "\n",
    "here implemented as run_mci. The condition-selection step reduces the dimensionality and avoids conditioning on irrelevant variables.\n",
    "\n",
    "Then we initialize the ``PCMCI`` method with  ``dataframe``, ``cond_ind_test``, and (optionally) ``var_names``."
   ]
  },
  {
   "cell_type": "code",
   "execution_count": null,
   "metadata": {},
   "outputs": [],
   "source": [
    "from tigramite.pcmci import PCMCI\n",
    "from tigramite.independence_tests import ParCorr, GPDC, CMIknn, CMIsymb\n",
    "from tigramite.models import LinearMediation, Prediction\n",
    "\n",
    "# setting up the parameters for the PCMCI method\n",
    "\n",
    "parcorr = ParCorr(significance='analytic')\n",
    "\n",
    "pcmci = PCMCI(\n",
    "    dataframe=dataframe, \n",
    "    cond_ind_test=parcorr,\n",
    "    verbosity=1)\n",
    "\n",
    "print('pcmci variable outcome type', type(pcmci))\n",
    "\n",
    "'''\n",
    "deleted the element in pcmci method:   var_names=var_names not to get errors\n",
    "'''"
   ]
  },
  {
   "cell_type": "code",
   "execution_count": null,
   "metadata": {},
   "outputs": [],
   "source": [
    "# apply pcmci method to other data with other variables\n",
    "\n",
    "parcorr = ParCorr(significance='analytic')\n",
    "\n",
    "pcmci_norm = PCMCI(\n",
    "    dataframe=dataframe_norm, \n",
    "    cond_ind_test=parcorr,\n",
    "    verbosity=1)\n"
   ]
  },
  {
   "cell_type": "markdown",
   "metadata": {},
   "source": [
    "# Correlations¶\n",
    "\n",
    "Before running the causal algorithm, it's a good idea to plot the lagged unconditional dependencies, e.g., the lagged correlations. This can help to identify which maximal time lag tau_max to choose in the causal algorithm.\n"
   ]
  },
  {
   "cell_type": "code",
   "execution_count": null,
   "metadata": {},
   "outputs": [],
   "source": [
    "\n",
    "correlations = pcmci.get_lagged_dependencies(tau_max=20)\n",
    "lag_func_matrix = tp.plot_lagfuncs(val_matrix=correlations, setup_args={'var_names':var_names, \n",
    "                                    'x_base':5, 'y_base':.5})"
   ]
  },
  {
   "cell_type": "code",
   "execution_count": null,
   "metadata": {},
   "outputs": [],
   "source": []
  }
 ],
 "metadata": {
  "kernelspec": {
   "display_name": "Python 3",
   "language": "python",
   "name": "python3"
  },
  "language_info": {
   "codemirror_mode": {
    "name": "ipython",
    "version": 3
   },
   "file_extension": ".py",
   "mimetype": "text/x-python",
   "name": "python",
   "nbconvert_exporter": "python",
   "pygments_lexer": "ipython3",
   "version": "3.7.4"
  }
 },
 "nbformat": 4,
 "nbformat_minor": 2
}
