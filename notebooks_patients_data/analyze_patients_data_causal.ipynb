{
 "cells": [
  {
   "cell_type": "markdown",
   "metadata": {},
   "source": [
    "# Health data analysis\n",
    "Olivier: \n",
    "I just downloaded a zip of the repository (https://github.com/oliviermirat/MonsterMizer), then after unzipping, I navigated (in a python command prompt) to the folder \"firstExperimentsAndCode\" and typed: \"python 1_createDataFrame.py\". This generated a file called \"data.txt\" (that I've also attached to this email), that contains the pandas structure with all the data. This data can then be read with the following code:\n",
    "\n",
    "import pickle\n",
    "input = open('data.txt', 'rb')\n",
    "data = pickle.load(input)\n",
    "input.close()\n",
    "\n",
    "The data is then in the variable data, as you'll see this data contains plenty of non-zero data (there is quite a bit of zero values at the beginning and end of the array but plenty of non-zeros values in the middle).\n",
    "Alternatively, you can also view this data by using for example the scripts \"2_analyzeDataKnee.py\", \"2_analyzeDataForeheadEyes\", etc...\n",
    "\n"
   ]
  },
  {
   "cell_type": "markdown",
   "metadata": {},
   "source": [
    "# Load data \n",
    "\n"
   ]
  },
  {
   "cell_type": "code",
   "execution_count": 14,
   "metadata": {},
   "outputs": [],
   "source": [
    "import pickle\n",
    "import numpy as np\n",
    "import csv\n",
    "import datetime\n",
    "import pandas as pd\n",
    "import os, os.path\n",
    "import re\n",
    "\n",
    "# Creation of the dataframe where everything will be stored\n",
    "i = pd.date_range('2015-11-19', periods=1460, freq='1D')\n",
    "sLength = len(i)\n",
    "empty = pd.Series(np.zeros(sLength)).values\n",
    "d = {'basisPeakSteps': empty, 'steps': empty, 'denivelation': empty, 'kneePain': empty, 'handsAndFingerPain': empty, 'foreheadAndEyesPain': empty, 'forearmElbowPain': empty, 'aroundEyesPain': empty, 'shoulderNeckPain': empty, 'painthreshold': np.full((sLength),3.4), 'whatPulseKeysC1': empty, 'whatPulseClicksC1': empty, 'manicTimeC1': empty, 'whatPulseKeysC2': empty, 'whatPulseClicksC2': empty, 'manicTimeC2': empty, 'whatPulseKeysC3': empty, 'whatPulseClicksC3': empty, 'manicTimeC3': empty, 'whatPulseKeysT': empty, 'whatPulseClicksT': empty, 'whatPulseT': empty, 'manicTimeT': empty, 'walk': empty, 'roadBike': empty, 'mountainBike': empty, 'swimming': empty, 'surfing': empty, 'climbing': empty, 'viaFerrata': empty, 'alpiSki': empty, 'downSki': empty, 'eyeRelatedActivities': empty, }\n",
    "data = pd.DataFrame(data=d, index=i)\n",
    "\n",
    "filepath = 'C:/Users/tupikina/Documents/Python_Scripts/MonsterMizer-master'\n",
    "\n",
    "\n",
    "# Storing BasisPeak data in dataframe\n",
    "if False: # This step takes a long time, put to False if you want to skip it, and to True otherwise\n",
    "  filename = filepath+'/MonsterMizerOpenData/Participant1PublicOM/bodymetrics.csv'\n",
    "  with open(filename, newline='') as csvfile:\n",
    "    spamreader = csv.reader(csvfile)\n",
    "    count = 0\n",
    "    for row in spamreader:\n",
    "      count=count+1\n",
    "      if (count>2 and len(row)):\n",
    "        date  = row[0][0:10]\n",
    "        data.loc[date,'basisPeakSteps'] = data.loc[date,'basisPeakSteps'] + int(row[5])\n",
    "        if count % 10000 == 0:\n",
    "          print(count,'lines done out of the 532 330 needed for the basis peak')\n",
    "\n",
    "# Storing fitbit data in dataframe\n",
    "directory = os.fsencode(filepath+'/MonsterMizerOpenData/Participant1PublicOM/dailyFitBitPerMonth/')\n",
    "for file in os.listdir(directory):\n",
    "  name = os.fsdecode(file)\n",
    "  if name.endswith(\".csv\"): \n",
    "    filename = filepath+'/MonsterMizerOpenData/Participant1PublicOM/dailyFitBitPerMonth/'+name\n",
    "    with open(filename, newline='') as csvfile:\n",
    "      spamreader = csv.reader(csvfile)\n",
    "      count = 0\n",
    "      for row in spamreader:\n",
    "        count=count+1\n",
    "        if (count>2 and len(row)):\n",
    "          day   = row[0][0:2]\n",
    "          month = row[0][3:5]\n",
    "          year  = row[0][6:10]\n",
    "          date  = year+'-'+month+'-'+day\n",
    "          data.loc[date,'steps']        = int(row[2].replace(',',''))\n",
    "          data.loc[date,'denivelation'] = int(row[4])\n",
    "\n",
    "# Storing pain intensities in dataframe\n",
    "filename = filepath +'/MonsterMizerOpenData/Participant1PublicOM/pain.csv'\n",
    "curYear  = ''\n",
    "curMonth = ''\n",
    "curDay   = ''\n",
    "with open(filename, newline='') as csvfile:\n",
    "  spamreader = csv.reader(csvfile)\n",
    "  count = 0\n",
    "  for row in spamreader:\n",
    "    count=count+1\n",
    "    if (count>2 and len(row)):\n",
    "      if len(row[0]):\n",
    "        curYear  = row[0]\n",
    "      if len(row[1]):\n",
    "        curMonth = row[1]\n",
    "        if len(curMonth) == 1:\n",
    "          curMonth = '0'+curMonth\n",
    "      if len(row[2]):\n",
    "        curDay   = row[2]\n",
    "        if len(curDay) == 1:\n",
    "          curDay = '0'+curDay\n",
    "      date = curYear+'-'+curMonth+'-'+curDay\n",
    "      dict = {'Knees' : 'kneePain',\n",
    "              'Hands And Fingers' : 'handsAndFingerPain',\n",
    "              'Forehead and Eyes' : 'foreheadAndEyesPain',\n",
    "              'Forearm close to elbow' : 'forearmElbowPain',\n",
    "              'Eyes (or around them)' : 'aroundEyesPain',\n",
    "              'Shoulder Neck' : 'shoulderNeckPain'}\n",
    "      if (row[3] in dict):\n",
    "        data.loc[date,dict[row[3]]] = float(row[5])\n",
    "        \n",
    "# Storing whatPulse data in dataFrame\n",
    "for num in ['1','2','3']:\n",
    "  nbFiles = len([name for name in os.listdir(filepath+'/MonsterMizerOpenData/Participant1PublicOM/computerUsage/computer'+num+'/whatPulse/') if os.path.isfile(os.path.join('data/computerUsage/computer'+num+'/whatPulse/', name))])\n",
    "  for i in range(1,nbFiles+1):\n",
    "    filename = filepath +'/MonsterMizerOpenData/Participant1PublicOM/computerUsage/computer'+num+'/whatPulse/whatpulse-input-history'+str(i)+'.csv'\n",
    "    with open(filename, newline='') as csvfile:\n",
    "      spamreader = csv.reader(csvfile)\n",
    "      count = 0\n",
    "      for row in spamreader:\n",
    "        count=count+1\n",
    "        if (count>1 and len(row)):\n",
    "          date  = row[0][0:10]\n",
    "          data.loc[date,'whatPulseKeysC'+num] = int(row[1])\n",
    "          data.loc[date,'whatPulseClicksC'+num] = int(row[2])\n",
    "data['whatPulseKeysT'] = data['whatPulseKeysC1'] + data['whatPulseKeysC2'] + data['whatPulseKeysC3']\n",
    "data['whatPulseClicksT'] = data['whatPulseClicksC1'] + data['whatPulseClicksC2'] + data['whatPulseClicksC3']\n",
    "data['whatPulseT'] = data['whatPulseKeysT'] + data['whatPulseClicksT']\n",
    "\n",
    "# Storing Manic Time data in dataFrame\n",
    "for num in ['1','2','3']:\n",
    "  filename = filepath+'/MonsterMizerOpenData/Participant1PublicOM/computerUsage/computer'+num+'/manicTime/manicTime.csv'\n",
    "  with open(filename, newline='') as csvfile:\n",
    "    spamreader = csv.reader(csvfile)\n",
    "    count = 0\n",
    "    for row in spamreader:\n",
    "      count=count+1\n",
    "      if (count>1 and len(row)):\n",
    "        if row[0][0:4] == \"Acti\":\n",
    "          if num == '1':\n",
    "            day   = row[1][0:2]\n",
    "            month = row[1][3:5]\n",
    "            year  = row[1][6:10]\n",
    "          else:\n",
    "            delimit = [m.start() for m in re.finditer('/', row[1])]\n",
    "            month = row[1][0:delimit[0]]\n",
    "            day   = row[1][delimit[0]+1:delimit[1]]\n",
    "            if len(month)==1:\n",
    "              month = '0' + month\n",
    "            if len(day)==1:\n",
    "              day = '0' + day\n",
    "            year  = row[1][delimit[1]+1:delimit[1]+5]\n",
    "          date  = year+'-'+month+'-'+day\n",
    "          hours = int(row[3][0:1]) * 60 + int(row[3][2:4])\n",
    "          data.loc[date,'manicTimeC'+num] = data.loc[date,'manicTimeC'+num] + hours\n",
    "data['manicTimeT'] = data['manicTimeC1'] + data['manicTimeC2'] + data['manicTimeC3']\n",
    "\n",
    "# Storing Sport data in dataframe\n",
    "filename = filepath+'/MonsterMizerOpenData/Participant1PublicOM/sport.csv'\n",
    "curYear  = ''\n",
    "curMonth = ''\n",
    "curDay   = ''\n",
    "with open(filename, newline='') as csvfile:\n",
    "  spamreader = csv.reader(csvfile)\n",
    "  count = 0\n",
    "  for row in spamreader:\n",
    "    count=count+1\n",
    "    if (count>1 and len(row)):\n",
    "      if len(row[0]):\n",
    "        curYear  = row[0]\n",
    "      if len(row[1]):\n",
    "        curMonth = row[1]\n",
    "        if len(curMonth) == 1:\n",
    "          curMonth = '0'+curMonth\n",
    "      if len(row[2]):\n",
    "        curDay   = row[2]\n",
    "        if len(curDay) == 1:\n",
    "          curDay = '0'+curDay\n",
    "      date = curYear+'-'+curMonth+'-'+curDay\n",
    "      dict = {'Walk' : 'walk',\n",
    "              'Road Bike' : 'roadBike',\n",
    "              'Mt Bike' : 'mountainBike',\n",
    "              'Swimming' : 'swimming',\n",
    "              'Surfing' : 'surfing',\n",
    "              'Climbing' : 'climbing',\n",
    "              'Via Ferrata' : 'viaFerrata',\n",
    "              'Alpi Ski' : 'alpiSki',\n",
    "              'Down Ski' : 'downSki'}\n",
    "      if (row[3] in dict):\n",
    "        data.loc[date,dict[row[3]]] = 1\n",
    "\n",
    "# Storing Eye related activity hours in dataframe\n",
    "filename = filepath+'/MonsterMizerOpenData/Participant1PublicOM/eyeRelatedActivities.csv'\n",
    "curYear  = ''\n",
    "curMonth = ''\n",
    "curDay   = ''\n",
    "with open(filename, newline='') as csvfile:\n",
    "  spamreader = csv.reader(csvfile)\n",
    "  count = 0\n",
    "  for row in spamreader:\n",
    "    count=count+1\n",
    "    if (count>2 and len(row)):\n",
    "      if len(row[0]):\n",
    "        curYear  = row[0]\n",
    "      if len(row[1]):\n",
    "        curMonth = row[1]\n",
    "        if len(curMonth) == 1:\n",
    "          curMonth = '0'+curMonth\n",
    "      if len(row[2]):\n",
    "        curDay   = row[2]\n",
    "        if len(curDay) == 1:\n",
    "          curDay = '0'+curDay\n",
    "      date = curYear+'-'+curMonth+'-'+curDay\n",
    "      tot = 0\n",
    "      if len(row[3]):\n",
    "        tot = tot + int(row[3])\n",
    "      if len(row[4]):\n",
    "        tot = tot + int(row[4])\n",
    "      if len(row[5]):\n",
    "        tot = tot + int(row[5])\n",
    "      if len(row[6]):\n",
    "        tot = tot + int(row[6])\n",
    "      data.loc[date,'eyeRelatedActivities'] = tot\n",
    "\n",
    "# Saving the dataframe in a txt\n",
    "output = open('data.txt', 'wb')\n",
    "pickle.dump(data, output)\n",
    "output.close()\n"
   ]
  },
  {
   "cell_type": "code",
   "execution_count": 20,
   "metadata": {},
   "outputs": [
    {
     "data": {
      "text/html": [
       "<div>\n",
       "<style scoped>\n",
       "    .dataframe tbody tr th:only-of-type {\n",
       "        vertical-align: middle;\n",
       "    }\n",
       "\n",
       "    .dataframe tbody tr th {\n",
       "        vertical-align: top;\n",
       "    }\n",
       "\n",
       "    .dataframe thead th {\n",
       "        text-align: right;\n",
       "    }\n",
       "</style>\n",
       "<table border=\"1\" class=\"dataframe\">\n",
       "  <thead>\n",
       "    <tr style=\"text-align: right;\">\n",
       "      <th></th>\n",
       "      <th>basisPeakSteps</th>\n",
       "      <th>steps</th>\n",
       "      <th>denivelation</th>\n",
       "      <th>kneePain</th>\n",
       "      <th>handsAndFingerPain</th>\n",
       "      <th>foreheadAndEyesPain</th>\n",
       "      <th>forearmElbowPain</th>\n",
       "      <th>aroundEyesPain</th>\n",
       "      <th>shoulderNeckPain</th>\n",
       "      <th>painthreshold</th>\n",
       "      <th>...</th>\n",
       "      <th>walk</th>\n",
       "      <th>roadBike</th>\n",
       "      <th>mountainBike</th>\n",
       "      <th>swimming</th>\n",
       "      <th>surfing</th>\n",
       "      <th>climbing</th>\n",
       "      <th>viaFerrata</th>\n",
       "      <th>alpiSki</th>\n",
       "      <th>downSki</th>\n",
       "      <th>eyeRelatedActivities</th>\n",
       "    </tr>\n",
       "  </thead>\n",
       "  <tbody>\n",
       "    <tr>\n",
       "      <th>2015-11-19</th>\n",
       "      <td>0.0</td>\n",
       "      <td>0.0</td>\n",
       "      <td>0.0</td>\n",
       "      <td>0.0</td>\n",
       "      <td>0.0</td>\n",
       "      <td>0.0</td>\n",
       "      <td>0.0</td>\n",
       "      <td>0.0</td>\n",
       "      <td>0.0</td>\n",
       "      <td>3.4</td>\n",
       "      <td>...</td>\n",
       "      <td>0.0</td>\n",
       "      <td>0.0</td>\n",
       "      <td>0.0</td>\n",
       "      <td>0.0</td>\n",
       "      <td>0.0</td>\n",
       "      <td>0.0</td>\n",
       "      <td>0.0</td>\n",
       "      <td>0.0</td>\n",
       "      <td>0.0</td>\n",
       "      <td>0.0</td>\n",
       "    </tr>\n",
       "    <tr>\n",
       "      <th>2015-11-20</th>\n",
       "      <td>0.0</td>\n",
       "      <td>0.0</td>\n",
       "      <td>0.0</td>\n",
       "      <td>0.0</td>\n",
       "      <td>0.0</td>\n",
       "      <td>0.0</td>\n",
       "      <td>0.0</td>\n",
       "      <td>0.0</td>\n",
       "      <td>0.0</td>\n",
       "      <td>3.4</td>\n",
       "      <td>...</td>\n",
       "      <td>0.0</td>\n",
       "      <td>0.0</td>\n",
       "      <td>0.0</td>\n",
       "      <td>0.0</td>\n",
       "      <td>0.0</td>\n",
       "      <td>0.0</td>\n",
       "      <td>0.0</td>\n",
       "      <td>0.0</td>\n",
       "      <td>0.0</td>\n",
       "      <td>0.0</td>\n",
       "    </tr>\n",
       "    <tr>\n",
       "      <th>2015-11-21</th>\n",
       "      <td>0.0</td>\n",
       "      <td>0.0</td>\n",
       "      <td>0.0</td>\n",
       "      <td>0.0</td>\n",
       "      <td>0.0</td>\n",
       "      <td>0.0</td>\n",
       "      <td>0.0</td>\n",
       "      <td>0.0</td>\n",
       "      <td>0.0</td>\n",
       "      <td>3.4</td>\n",
       "      <td>...</td>\n",
       "      <td>0.0</td>\n",
       "      <td>0.0</td>\n",
       "      <td>0.0</td>\n",
       "      <td>0.0</td>\n",
       "      <td>0.0</td>\n",
       "      <td>0.0</td>\n",
       "      <td>0.0</td>\n",
       "      <td>0.0</td>\n",
       "      <td>0.0</td>\n",
       "      <td>0.0</td>\n",
       "    </tr>\n",
       "    <tr>\n",
       "      <th>2015-11-22</th>\n",
       "      <td>0.0</td>\n",
       "      <td>0.0</td>\n",
       "      <td>0.0</td>\n",
       "      <td>0.0</td>\n",
       "      <td>0.0</td>\n",
       "      <td>0.0</td>\n",
       "      <td>0.0</td>\n",
       "      <td>0.0</td>\n",
       "      <td>0.0</td>\n",
       "      <td>3.4</td>\n",
       "      <td>...</td>\n",
       "      <td>0.0</td>\n",
       "      <td>0.0</td>\n",
       "      <td>0.0</td>\n",
       "      <td>0.0</td>\n",
       "      <td>0.0</td>\n",
       "      <td>0.0</td>\n",
       "      <td>0.0</td>\n",
       "      <td>0.0</td>\n",
       "      <td>0.0</td>\n",
       "      <td>0.0</td>\n",
       "    </tr>\n",
       "    <tr>\n",
       "      <th>2015-11-23</th>\n",
       "      <td>0.0</td>\n",
       "      <td>0.0</td>\n",
       "      <td>0.0</td>\n",
       "      <td>0.0</td>\n",
       "      <td>0.0</td>\n",
       "      <td>0.0</td>\n",
       "      <td>0.0</td>\n",
       "      <td>0.0</td>\n",
       "      <td>0.0</td>\n",
       "      <td>3.4</td>\n",
       "      <td>...</td>\n",
       "      <td>0.0</td>\n",
       "      <td>1.0</td>\n",
       "      <td>0.0</td>\n",
       "      <td>0.0</td>\n",
       "      <td>0.0</td>\n",
       "      <td>0.0</td>\n",
       "      <td>0.0</td>\n",
       "      <td>0.0</td>\n",
       "      <td>0.0</td>\n",
       "      <td>0.0</td>\n",
       "    </tr>\n",
       "    <tr>\n",
       "      <th>2015-11-24</th>\n",
       "      <td>0.0</td>\n",
       "      <td>0.0</td>\n",
       "      <td>0.0</td>\n",
       "      <td>0.0</td>\n",
       "      <td>0.0</td>\n",
       "      <td>0.0</td>\n",
       "      <td>0.0</td>\n",
       "      <td>0.0</td>\n",
       "      <td>0.0</td>\n",
       "      <td>3.4</td>\n",
       "      <td>...</td>\n",
       "      <td>0.0</td>\n",
       "      <td>0.0</td>\n",
       "      <td>0.0</td>\n",
       "      <td>0.0</td>\n",
       "      <td>0.0</td>\n",
       "      <td>0.0</td>\n",
       "      <td>0.0</td>\n",
       "      <td>0.0</td>\n",
       "      <td>0.0</td>\n",
       "      <td>0.0</td>\n",
       "    </tr>\n",
       "    <tr>\n",
       "      <th>2015-11-25</th>\n",
       "      <td>0.0</td>\n",
       "      <td>0.0</td>\n",
       "      <td>0.0</td>\n",
       "      <td>5.7</td>\n",
       "      <td>3.0</td>\n",
       "      <td>3.0</td>\n",
       "      <td>0.0</td>\n",
       "      <td>0.0</td>\n",
       "      <td>0.0</td>\n",
       "      <td>3.4</td>\n",
       "      <td>...</td>\n",
       "      <td>0.0</td>\n",
       "      <td>0.0</td>\n",
       "      <td>0.0</td>\n",
       "      <td>0.0</td>\n",
       "      <td>0.0</td>\n",
       "      <td>0.0</td>\n",
       "      <td>0.0</td>\n",
       "      <td>0.0</td>\n",
       "      <td>0.0</td>\n",
       "      <td>7.0</td>\n",
       "    </tr>\n",
       "    <tr>\n",
       "      <th>2015-11-26</th>\n",
       "      <td>0.0</td>\n",
       "      <td>0.0</td>\n",
       "      <td>0.0</td>\n",
       "      <td>5.0</td>\n",
       "      <td>2.8</td>\n",
       "      <td>3.9</td>\n",
       "      <td>0.0</td>\n",
       "      <td>0.0</td>\n",
       "      <td>0.0</td>\n",
       "      <td>3.4</td>\n",
       "      <td>...</td>\n",
       "      <td>1.0</td>\n",
       "      <td>0.0</td>\n",
       "      <td>0.0</td>\n",
       "      <td>0.0</td>\n",
       "      <td>0.0</td>\n",
       "      <td>0.0</td>\n",
       "      <td>0.0</td>\n",
       "      <td>0.0</td>\n",
       "      <td>0.0</td>\n",
       "      <td>0.0</td>\n",
       "    </tr>\n",
       "    <tr>\n",
       "      <th>2015-11-27</th>\n",
       "      <td>0.0</td>\n",
       "      <td>0.0</td>\n",
       "      <td>0.0</td>\n",
       "      <td>5.0</td>\n",
       "      <td>2.8</td>\n",
       "      <td>3.9</td>\n",
       "      <td>0.0</td>\n",
       "      <td>0.0</td>\n",
       "      <td>0.0</td>\n",
       "      <td>3.4</td>\n",
       "      <td>...</td>\n",
       "      <td>0.0</td>\n",
       "      <td>0.0</td>\n",
       "      <td>0.0</td>\n",
       "      <td>0.0</td>\n",
       "      <td>0.0</td>\n",
       "      <td>0.0</td>\n",
       "      <td>0.0</td>\n",
       "      <td>0.0</td>\n",
       "      <td>0.0</td>\n",
       "      <td>0.0</td>\n",
       "    </tr>\n",
       "    <tr>\n",
       "      <th>2015-11-28</th>\n",
       "      <td>0.0</td>\n",
       "      <td>0.0</td>\n",
       "      <td>0.0</td>\n",
       "      <td>6.0</td>\n",
       "      <td>2.0</td>\n",
       "      <td>2.0</td>\n",
       "      <td>0.0</td>\n",
       "      <td>0.0</td>\n",
       "      <td>0.0</td>\n",
       "      <td>3.4</td>\n",
       "      <td>...</td>\n",
       "      <td>0.0</td>\n",
       "      <td>0.0</td>\n",
       "      <td>0.0</td>\n",
       "      <td>0.0</td>\n",
       "      <td>0.0</td>\n",
       "      <td>0.0</td>\n",
       "      <td>0.0</td>\n",
       "      <td>0.0</td>\n",
       "      <td>0.0</td>\n",
       "      <td>105.0</td>\n",
       "    </tr>\n",
       "  </tbody>\n",
       "</table>\n",
       "<p>10 rows × 33 columns</p>\n",
       "</div>"
      ],
      "text/plain": [
       "            basisPeakSteps  steps  denivelation  kneePain  handsAndFingerPain  \\\n",
       "2015-11-19             0.0    0.0           0.0       0.0                 0.0   \n",
       "2015-11-20             0.0    0.0           0.0       0.0                 0.0   \n",
       "2015-11-21             0.0    0.0           0.0       0.0                 0.0   \n",
       "2015-11-22             0.0    0.0           0.0       0.0                 0.0   \n",
       "2015-11-23             0.0    0.0           0.0       0.0                 0.0   \n",
       "2015-11-24             0.0    0.0           0.0       0.0                 0.0   \n",
       "2015-11-25             0.0    0.0           0.0       5.7                 3.0   \n",
       "2015-11-26             0.0    0.0           0.0       5.0                 2.8   \n",
       "2015-11-27             0.0    0.0           0.0       5.0                 2.8   \n",
       "2015-11-28             0.0    0.0           0.0       6.0                 2.0   \n",
       "\n",
       "            foreheadAndEyesPain  forearmElbowPain  aroundEyesPain  \\\n",
       "2015-11-19                  0.0               0.0             0.0   \n",
       "2015-11-20                  0.0               0.0             0.0   \n",
       "2015-11-21                  0.0               0.0             0.0   \n",
       "2015-11-22                  0.0               0.0             0.0   \n",
       "2015-11-23                  0.0               0.0             0.0   \n",
       "2015-11-24                  0.0               0.0             0.0   \n",
       "2015-11-25                  3.0               0.0             0.0   \n",
       "2015-11-26                  3.9               0.0             0.0   \n",
       "2015-11-27                  3.9               0.0             0.0   \n",
       "2015-11-28                  2.0               0.0             0.0   \n",
       "\n",
       "            shoulderNeckPain  painthreshold  ...  walk  roadBike  \\\n",
       "2015-11-19               0.0            3.4  ...   0.0       0.0   \n",
       "2015-11-20               0.0            3.4  ...   0.0       0.0   \n",
       "2015-11-21               0.0            3.4  ...   0.0       0.0   \n",
       "2015-11-22               0.0            3.4  ...   0.0       0.0   \n",
       "2015-11-23               0.0            3.4  ...   0.0       1.0   \n",
       "2015-11-24               0.0            3.4  ...   0.0       0.0   \n",
       "2015-11-25               0.0            3.4  ...   0.0       0.0   \n",
       "2015-11-26               0.0            3.4  ...   1.0       0.0   \n",
       "2015-11-27               0.0            3.4  ...   0.0       0.0   \n",
       "2015-11-28               0.0            3.4  ...   0.0       0.0   \n",
       "\n",
       "            mountainBike  swimming  surfing  climbing  viaFerrata  alpiSki  \\\n",
       "2015-11-19           0.0       0.0      0.0       0.0         0.0      0.0   \n",
       "2015-11-20           0.0       0.0      0.0       0.0         0.0      0.0   \n",
       "2015-11-21           0.0       0.0      0.0       0.0         0.0      0.0   \n",
       "2015-11-22           0.0       0.0      0.0       0.0         0.0      0.0   \n",
       "2015-11-23           0.0       0.0      0.0       0.0         0.0      0.0   \n",
       "2015-11-24           0.0       0.0      0.0       0.0         0.0      0.0   \n",
       "2015-11-25           0.0       0.0      0.0       0.0         0.0      0.0   \n",
       "2015-11-26           0.0       0.0      0.0       0.0         0.0      0.0   \n",
       "2015-11-27           0.0       0.0      0.0       0.0         0.0      0.0   \n",
       "2015-11-28           0.0       0.0      0.0       0.0         0.0      0.0   \n",
       "\n",
       "            downSki  eyeRelatedActivities  \n",
       "2015-11-19      0.0                   0.0  \n",
       "2015-11-20      0.0                   0.0  \n",
       "2015-11-21      0.0                   0.0  \n",
       "2015-11-22      0.0                   0.0  \n",
       "2015-11-23      0.0                   0.0  \n",
       "2015-11-24      0.0                   0.0  \n",
       "2015-11-25      0.0                   7.0  \n",
       "2015-11-26      0.0                   0.0  \n",
       "2015-11-27      0.0                   0.0  \n",
       "2015-11-28      0.0                 105.0  \n",
       "\n",
       "[10 rows x 33 columns]"
      ]
     },
     "execution_count": 20,
     "metadata": {},
     "output_type": "execute_result"
    }
   ],
   "source": [
    "# print dataframe from data.txt file \n",
    "\n",
    "data.head(10)"
   ]
  },
  {
   "cell_type": "code",
   "execution_count": 17,
   "metadata": {},
   "outputs": [
    {
     "data": {
      "text/plain": [
       "basisPeakSteps             0\n",
       "steps                   1118\n",
       "denivelation            1062\n",
       "kneePain                1431\n",
       "handsAndFingerPain      1295\n",
       "foreheadAndEyesPain      302\n",
       "forearmElbowPain         511\n",
       "aroundEyesPain          1130\n",
       "shoulderNeckPain          28\n",
       "painthreshold           1460\n",
       "whatPulseKeysC1            0\n",
       "whatPulseClicksC1          0\n",
       "manicTimeC1             1000\n",
       "whatPulseKeysC2            0\n",
       "whatPulseClicksC2          0\n",
       "manicTimeC2               75\n",
       "whatPulseKeysC3            0\n",
       "whatPulseClicksC3          0\n",
       "manicTimeC3              454\n",
       "whatPulseKeysT             0\n",
       "whatPulseClicksT           0\n",
       "whatPulseT                 0\n",
       "manicTimeT              1422\n",
       "walk                     710\n",
       "roadBike                   5\n",
       "mountainBike              47\n",
       "swimming                  33\n",
       "surfing                  115\n",
       "climbing                 204\n",
       "viaFerrata                 2\n",
       "alpiSki                    7\n",
       "downSki                    3\n",
       "eyeRelatedActivities    1095\n",
       "dtype: int64"
      ]
     },
     "execution_count": 17,
     "metadata": {},
     "output_type": "execute_result"
    }
   ],
   "source": [
    "#count of non-zero elements \n",
    "data.astype(bool).sum(axis=0)"
   ]
  },
  {
   "cell_type": "code",
   "execution_count": 19,
   "metadata": {},
   "outputs": [
    {
     "data": {
      "text/plain": [
       "2015-11-19    1\n",
       "2015-11-20    1\n",
       "2015-11-21    1\n",
       "2015-11-22    3\n",
       "2015-11-23    4\n",
       "2015-11-24    3\n",
       "2015-11-25    7\n",
       "2015-11-26    7\n",
       "2015-11-27    6\n",
       "2015-11-28    5\n",
       "2015-11-29    8\n",
       "2015-11-30    7\n",
       "2015-12-01    7\n",
       "2015-12-02    7\n",
       "2015-12-03    9\n",
       "2015-12-04    9\n",
       "2015-12-05    9\n",
       "2015-12-06    8\n",
       "2015-12-07    7\n",
       "2015-12-08    7\n",
       "2015-12-09    7\n",
       "2015-12-10    8\n",
       "2015-12-11    8\n",
       "2015-12-12    8\n",
       "2015-12-13    8\n",
       "2015-12-14    7\n",
       "2015-12-15    9\n",
       "2015-12-16    8\n",
       "2015-12-17    8\n",
       "2015-12-18    8\n",
       "             ..\n",
       "2019-10-19    7\n",
       "2019-10-20    8\n",
       "2019-10-21    8\n",
       "2019-10-22    8\n",
       "2019-10-23    8\n",
       "2019-10-24    8\n",
       "2019-10-25    8\n",
       "2019-10-26    8\n",
       "2019-10-27    7\n",
       "2019-10-28    3\n",
       "2019-10-29    1\n",
       "2019-10-30    1\n",
       "2019-10-31    1\n",
       "2019-11-01    1\n",
       "2019-11-02    1\n",
       "2019-11-03    1\n",
       "2019-11-04    1\n",
       "2019-11-05    1\n",
       "2019-11-06    1\n",
       "2019-11-07    1\n",
       "2019-11-08    1\n",
       "2019-11-09    1\n",
       "2019-11-10    1\n",
       "2019-11-11    1\n",
       "2019-11-12    1\n",
       "2019-11-13    1\n",
       "2019-11-14    1\n",
       "2019-11-15    1\n",
       "2019-11-16    1\n",
       "2019-11-17    1\n",
       "Freq: D, Length: 1460, dtype: int64"
      ]
     },
     "execution_count": 19,
     "metadata": {},
     "output_type": "execute_result"
    }
   ],
   "source": [
    "data.astype(bool).sum(axis=1)"
   ]
  },
  {
   "cell_type": "markdown",
   "metadata": {},
   "source": [
    "# Visualise Data"
   ]
  },
  {
   "cell_type": "code",
   "execution_count": 18,
   "metadata": {},
   "outputs": [
    {
     "name": "stdout",
     "output_type": "stream",
     "text": [
      "Could not import rpy package\n",
      "Could not import r-package RCIT\n"
     ]
    }
   ],
   "source": [
    "import numpy"
   ]
  },
  {
   "cell_type": "code",
   "execution_count": 36,
   "metadata": {},
   "outputs": [
    {
     "name": "stdout",
     "output_type": "stream",
     "text": [
      "(1460,)\n",
      "shape of data with symptoms (1460, 3)\n",
      "loaded data with 3 variables\n"
     ]
    }
   ],
   "source": [
    "# take first variables \n",
    "\n",
    "var1 = data.iloc[:,1].values # first column \n",
    "var2 = data.iloc[:,2].values # second column\n",
    "var3 = data.iloc[:,3].values\n",
    "print(np.shape(var1))\n",
    "\n",
    "# glue together data from 3 variables\n",
    "data12 = np.column_stack((var1, var2))\n",
    "data = np.column_stack((data12, var3))\n",
    "\n",
    "print('shape of data with symptoms', data.shape)\n",
    "print('loaded data with 3 variables')"
   ]
  },
  {
   "cell_type": "code",
   "execution_count": 38,
   "metadata": {},
   "outputs": [
    {
     "name": "stdout",
     "output_type": "stream",
     "text": [
      "['$X^0$', '$X^1$', '$X^2$', '$X^3$']\n",
      "<tigramite.data_processing.DataFrame object at 0x000002211B5F1908>\n"
     ]
    }
   ],
   "source": [
    "# prepare dataframe for tigramite \n",
    "\n",
    "# Initialize dataframe object\n",
    "dataframe = pp.DataFrame(data)\n",
    "\n",
    "\n",
    "datatime = numpy.arange(len(data))\n",
    "\n",
    "var_names = [r'$X^0$', r'$X^1$', r'$X^2$', r'$X^3$'] #var_names = numpy.arange(len(data))\n",
    "\n",
    "print(var_names)\n",
    "print(dataframe)"
   ]
  },
  {
   "cell_type": "code",
   "execution_count": 39,
   "metadata": {},
   "outputs": [
    {
     "name": "stdout",
     "output_type": "stream",
     "text": [
      "pcmci variable outcome type <class 'tigramite.pcmci.PCMCI'>\n"
     ]
    },
    {
     "data": {
      "text/plain": [
       "'\\ndeleted the element in pcmci method:   var_names=var_names not to get errors\\n'"
      ]
     },
     "execution_count": 39,
     "metadata": {},
     "output_type": "execute_result"
    }
   ],
   "source": [
    "\n",
    "\n"
   ]
  },
  {
   "cell_type": "code",
   "execution_count": 47,
   "metadata": {},
   "outputs": [
    {
     "name": "stdout",
     "output_type": "stream",
     "text": [
      "plotting time series from first dynamical system\n"
     ]
    },
    {
     "data": {
      "image/png": "[encoded data removed]",
      "text/plain": [
       "<Figure size 432x288 with 1 Axes>"
      ]
     },
     "metadata": {
      "needs_background": "light"
     },
     "output_type": "display_data"
    }
   ],
   "source": [
    "import pandas as pd\n",
    "from matplotlib import pyplot as plt\n",
    "\n",
    "\n",
    "'''tp.plot_timeseries(data, datatime, var_names)'''\n",
    "array = dataframe.values\n",
    "#print(type(dataframe.values))\n",
    "#print(array.shape)\n",
    "print('plotting time series from first dynamical system')\n",
    "\n",
    "\n",
    "plt.plot(array[:,0])\n",
    "plt.xlabel('time')\n",
    "\n",
    "plt.show()\n",
    "\n"
   ]
  },
  {
   "cell_type": "code",
   "execution_count": 46,
   "metadata": {},
   "outputs": [
    {
     "data": {
      "text/plain": [
       "Text(0.5, 0, 'time')"
      ]
     },
     "execution_count": 46,
     "metadata": {},
     "output_type": "execute_result"
    },
    {
     "data": {
      "image/png": "[encoded data removed]",
      "text/plain": [
       "<Figure size 432x288 with 1 Axes>"
      ]
     },
     "metadata": {
      "needs_background": "light"
     },
     "output_type": "display_data"
    }
   ],
   "source": [
    "\n",
    "plt.plot(array[:,2])\n",
    "plt.xlabel('time')\n",
    "\n"
   ]
  },
  {
   "cell_type": "code",
   "execution_count": 48,
   "metadata": {},
   "outputs": [
    {
     "data": {
      "text/plain": [
       "Text(0.5, 0, 'time')"
      ]
     },
     "execution_count": 48,
     "metadata": {},
     "output_type": "execute_result"
    },
    {
     "data": {
      "image/png": "[encoded data removed]",
      "text/plain": [
       "<Figure size 432x288 with 1 Axes>"
      ]
     },
     "metadata": {
      "needs_background": "light"
     },
     "output_type": "display_data"
    }
   ],
   "source": [
    "\n",
    "plt.plot(array[:,1])\n",
    "plt.xlabel('time')\n"
   ]
  },
  {
   "cell_type": "markdown",
   "metadata": {},
   "source": [
    "# Plot distributions"
   ]
  },
  {
   "cell_type": "code",
   "execution_count": 51,
   "metadata": {},
   "outputs": [
    {
     "data": {
      "image/png": "[encoded data removed]",
      "text/plain": [
       "<Figure size 504x504 with 1 Axes>"
      ]
     },
     "metadata": {},
     "output_type": "display_data"
    },
    {
     "data": {
      "image/png": "[encoded data removed]",
      "text/plain": [
       "<Figure size 432x288 with 1 Axes>"
      ]
     },
     "metadata": {},
     "output_type": "display_data"
    }
   ],
   "source": [
    "import seaborn as sns, numpy as np\n",
    "sns.set()\n",
    "\n",
    "f, ax = plt.subplots(figsize=(7, 7))\n",
    "ax.set( yscale=\"log\")\n",
    "ax = sns.distplot(array[:,0])\n",
    "plt.title('data var 1')\n",
    "plt.show()\n",
    "\n",
    "\n",
    "ax = sns.distplot(array[:,1])\n",
    "plt.title('data var 2')\n",
    "plt.show()"
   ]
  },
  {
   "cell_type": "markdown",
   "metadata": {},
   "source": [
    "# Analysis of data "
   ]
  },
  {
   "cell_type": "code",
   "execution_count": 53,
   "metadata": {},
   "outputs": [
    {
     "name": "stdout",
     "output_type": "stream",
     "text": [
      "pcmci variable outcome type <class 'tigramite.pcmci.PCMCI'>\n"
     ]
    },
    {
     "data": {
      "text/plain": [
       "'\\ndeleted the element in pcmci method:   var_names=var_names not to get errors\\n'"
      ]
     },
     "execution_count": 53,
     "metadata": {},
     "output_type": "execute_result"
    }
   ],
   "source": [
    "# Imports\n",
    "import numpy\n",
    "import matplotlib\n",
    "from matplotlib import pyplot as plt\n",
    "%matplotlib inline     \n",
    "## use `%matplotlib notebook` for interactive figures\n",
    "# plt.style.use('ggplot')\n",
    "import sklearn\n",
    "\n",
    "import tigramite\n",
    "from tigramite import data_processing as pp\n",
    "from tigramite import plotting as tp\n",
    "from tigramite.pcmci import PCMCI\n",
    "from tigramite.independence_tests import ParCorr, GPDC, CMIknn, CMIsymb\n",
    "from tigramite.models import LinearMediation, Prediction\n",
    "\n",
    "# setting up the parameters for the PCMCI method\n",
    "\n",
    "parcorr = ParCorr(significance='analytic')\n",
    "\n",
    "pcmci = PCMCI(\n",
    "    dataframe=dataframe, \n",
    "    cond_ind_test=parcorr,\n",
    "    verbosity=1)\n",
    "\n",
    "print('pcmci variable outcome type', type(pcmci))\n",
    "\n",
    "'''\n",
    "deleted the element in pcmci method:   var_names=var_names not to get errors\n",
    "'''\n",
    "\n"
   ]
  },
  {
   "cell_type": "code",
   "execution_count": 54,
   "metadata": {},
   "outputs": [
    {
     "name": "stdout",
     "output_type": "stream",
     "text": [
      "pcmci variable outcome type <class 'tigramite.pcmci.PCMCI'>\n"
     ]
    },
    {
     "data": {
      "text/plain": [
       "'\\ndeleted the element in pcmci method:   var_names=var_names not to get errors\\n'"
      ]
     },
     "execution_count": 54,
     "metadata": {},
     "output_type": "execute_result"
    }
   ],
   "source": [
    "from tigramite.pcmci import PCMCI\n",
    "from tigramite.independence_tests import ParCorr, GPDC, CMIknn, CMIsymb\n",
    "from tigramite.models import LinearMediation, Prediction\n",
    "\n",
    "# setting up the parameters for the PCMCI method\n",
    "\n",
    "parcorr = ParCorr(significance='analytic')\n",
    "\n",
    "pcmci = PCMCI(\n",
    "    dataframe=dataframe, \n",
    "    cond_ind_test=parcorr,\n",
    "    verbosity=1)\n",
    "\n",
    "print('pcmci variable outcome type', type(pcmci))\n",
    "\n",
    "'''\n",
    "deleted the element in pcmci method:   var_names=var_names not to get errors\n",
    "'''"
   ]
  },
  {
   "cell_type": "code",
   "execution_count": 55,
   "metadata": {},
   "outputs": [],
   "source": [
    "# Correlation calculation"
   ]
  },
  {
   "cell_type": "code",
   "execution_count": 56,
   "metadata": {},
   "outputs": [
    {
     "name": "stdout",
     "output_type": "stream",
     "text": [
      "\n",
      "## Estimating lagged dependencies\n"
     ]
    }
   ],
   "source": [
    "correlations = pcmci.get_lagged_dependencies(tau_max=20)\n"
   ]
  },
  {
   "cell_type": "code",
   "execution_count": 57,
   "metadata": {},
   "outputs": [
    {
     "data": {
      "image/png": "[encoded data removed]",
      "text/plain": [
       "<Figure size 432x288 with 9 Axes>"
      ]
     },
     "metadata": {
      "needs_background": "light"
     },
     "output_type": "display_data"
    }
   ],
   "source": [
    "lag_func_matrix = tp.plot_lagfuncs(val_matrix=correlations, setup_args={'var_names':var_names, \n",
    "                                    'x_base':5, 'y_base':.5})"
   ]
  },
  {
   "cell_type": "code",
   "execution_count": null,
   "metadata": {},
   "outputs": [],
   "source": []
  }
 ],
 "metadata": {
  "kernelspec": {
   "display_name": "Python 3",
   "language": "python",
   "name": "python3"
  },
  "language_info": {
   "codemirror_mode": {
    "name": "ipython",
    "version": 3
   },
   "file_extension": ".py",
   "mimetype": "text/x-python",
   "name": "python",
   "nbconvert_exporter": "python",
   "pygments_lexer": "ipython3",
   "version": "3.7.3"
  }
 },
 "nbformat": 4,
 "nbformat_minor": 2
}
